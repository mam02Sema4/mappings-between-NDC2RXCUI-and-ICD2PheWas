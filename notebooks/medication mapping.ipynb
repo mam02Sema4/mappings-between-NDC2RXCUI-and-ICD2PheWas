{
 "cells": [
  {
   "cell_type": "code",
   "execution_count": 2,
   "metadata": {
    "ExecuteTime": {
     "end_time": "2020-10-21T04:11:42.364318Z",
     "start_time": "2020-10-21T04:11:42.360897Z"
    }
   },
   "outputs": [],
   "source": [
    "import sys\n",
    "sys.path.append(\"./\")\n",
    "from utils import pkl_load, pkl_dump, text_load"
   ]
  },
  {
   "cell_type": "code",
   "execution_count": 3,
   "metadata": {
    "ExecuteTime": {
     "end_time": "2020-10-21T04:11:43.053194Z",
     "start_time": "2020-10-21T04:11:43.050547Z"
    }
   },
   "outputs": [],
   "source": [
    "import pandas as pd\n",
    "from collections import defaultdict\n",
    "from copy import deepcopy"
   ]
  },
  {
   "cell_type": "code",
   "execution_count": 4,
   "metadata": {
    "ExecuteTime": {
     "end_time": "2020-10-21T04:11:44.267709Z",
     "start_time": "2020-10-21T04:11:44.255737Z"
    }
   },
   "outputs": [],
   "source": [
    "from concurrent.futures import ProcessPoolExecutor"
   ]
  },
  {
   "cell_type": "code",
   "execution_count": null,
   "metadata": {},
   "outputs": [],
   "source": [
    "\"\"\"\n",
    "Readme\n",
    "\n",
    "1. we will create a mapping between ndc and rxcui\n",
    "2. we will create a mapping between rxcui and its ingradient level rxcui\n",
    "3. we will create a mapping between unused rxcui and its current version\n",
    "\"\"\""
   ]
  },
  {
   "cell_type": "code",
   "execution_count": 66,
   "metadata": {
    "ExecuteTime": {
     "end_time": "2020-10-21T00:47:38.313612Z",
     "start_time": "2020-10-21T00:47:35.884231Z"
    }
   },
   "outputs": [
    {
     "data": {
      "text/html": [
       "<div>\n",
       "<style scoped>\n",
       "    .dataframe tbody tr th:only-of-type {\n",
       "        vertical-align: middle;\n",
       "    }\n",
       "\n",
       "    .dataframe tbody tr th {\n",
       "        vertical-align: top;\n",
       "    }\n",
       "\n",
       "    .dataframe thead th {\n",
       "        text-align: right;\n",
       "    }\n",
       "</style>\n",
       "<table border=\"1\" class=\"dataframe\">\n",
       "  <thead>\n",
       "    <tr style=\"text-align: right;\">\n",
       "      <th></th>\n",
       "      <th>0</th>\n",
       "      <th>1</th>\n",
       "      <th>2</th>\n",
       "      <th>3</th>\n",
       "      <th>4</th>\n",
       "      <th>5</th>\n",
       "      <th>6</th>\n",
       "      <th>7</th>\n",
       "      <th>8</th>\n",
       "      <th>9</th>\n",
       "      <th>10</th>\n",
       "      <th>11</th>\n",
       "      <th>12</th>\n",
       "      <th>13</th>\n",
       "      <th>14</th>\n",
       "      <th>15</th>\n",
       "      <th>16</th>\n",
       "      <th>17</th>\n",
       "      <th>18</th>\n",
       "    </tr>\n",
       "  </thead>\n",
       "  <tbody>\n",
       "    <tr>\n",
       "      <th>0</th>\n",
       "      <td>3</td>\n",
       "      <td>ENG</td>\n",
       "      <td>NaN</td>\n",
       "      <td>NaN</td>\n",
       "      <td>NaN</td>\n",
       "      <td>NaN</td>\n",
       "      <td>NaN</td>\n",
       "      <td>8717795</td>\n",
       "      <td>NaN</td>\n",
       "      <td>58488005</td>\n",
       "      <td>NaN</td>\n",
       "      <td>SNOMEDCT_US</td>\n",
       "      <td>PT</td>\n",
       "      <td>58488005</td>\n",
       "      <td>1,4-alpha-Glucan branching enzyme</td>\n",
       "      <td>NaN</td>\n",
       "      <td>N</td>\n",
       "      <td>NaN</td>\n",
       "      <td>NaN</td>\n",
       "    </tr>\n",
       "    <tr>\n",
       "      <th>1</th>\n",
       "      <td>3</td>\n",
       "      <td>ENG</td>\n",
       "      <td>NaN</td>\n",
       "      <td>NaN</td>\n",
       "      <td>NaN</td>\n",
       "      <td>NaN</td>\n",
       "      <td>NaN</td>\n",
       "      <td>8717796</td>\n",
       "      <td>NaN</td>\n",
       "      <td>58488005</td>\n",
       "      <td>NaN</td>\n",
       "      <td>SNOMEDCT_US</td>\n",
       "      <td>FN</td>\n",
       "      <td>58488005</td>\n",
       "      <td>1,4-alpha-Glucan branching enzyme (substance)</td>\n",
       "      <td>NaN</td>\n",
       "      <td>N</td>\n",
       "      <td>NaN</td>\n",
       "      <td>NaN</td>\n",
       "    </tr>\n",
       "    <tr>\n",
       "      <th>2</th>\n",
       "      <td>3</td>\n",
       "      <td>ENG</td>\n",
       "      <td>NaN</td>\n",
       "      <td>NaN</td>\n",
       "      <td>NaN</td>\n",
       "      <td>NaN</td>\n",
       "      <td>NaN</td>\n",
       "      <td>8717808</td>\n",
       "      <td>NaN</td>\n",
       "      <td>58488005</td>\n",
       "      <td>NaN</td>\n",
       "      <td>SNOMEDCT_US</td>\n",
       "      <td>SY</td>\n",
       "      <td>58488005</td>\n",
       "      <td>Amylo-(1,4,6)-transglycosylase</td>\n",
       "      <td>NaN</td>\n",
       "      <td>N</td>\n",
       "      <td>NaN</td>\n",
       "      <td>NaN</td>\n",
       "    </tr>\n",
       "    <tr>\n",
       "      <th>3</th>\n",
       "      <td>3</td>\n",
       "      <td>ENG</td>\n",
       "      <td>NaN</td>\n",
       "      <td>NaN</td>\n",
       "      <td>NaN</td>\n",
       "      <td>NaN</td>\n",
       "      <td>NaN</td>\n",
       "      <td>8718164</td>\n",
       "      <td>NaN</td>\n",
       "      <td>58488005</td>\n",
       "      <td>NaN</td>\n",
       "      <td>SNOMEDCT_US</td>\n",
       "      <td>SY</td>\n",
       "      <td>58488005</td>\n",
       "      <td>Branching enzyme</td>\n",
       "      <td>NaN</td>\n",
       "      <td>N</td>\n",
       "      <td>NaN</td>\n",
       "      <td>NaN</td>\n",
       "    </tr>\n",
       "    <tr>\n",
       "      <th>4</th>\n",
       "      <td>19</td>\n",
       "      <td>ENG</td>\n",
       "      <td>NaN</td>\n",
       "      <td>NaN</td>\n",
       "      <td>NaN</td>\n",
       "      <td>NaN</td>\n",
       "      <td>NaN</td>\n",
       "      <td>10794494</td>\n",
       "      <td>NaN</td>\n",
       "      <td>112116001</td>\n",
       "      <td>NaN</td>\n",
       "      <td>SNOMEDCT_US</td>\n",
       "      <td>SY</td>\n",
       "      <td>112116001</td>\n",
       "      <td>17-hydrocorticosteroid</td>\n",
       "      <td>NaN</td>\n",
       "      <td>N</td>\n",
       "      <td>NaN</td>\n",
       "      <td>NaN</td>\n",
       "    </tr>\n",
       "  </tbody>\n",
       "</table>\n",
       "</div>"
      ],
      "text/plain": [
       "   0    1    2    3    4    5    6         7    8          9    10  \\\n",
       "0   3  ENG  NaN  NaN  NaN  NaN  NaN   8717795  NaN   58488005  NaN   \n",
       "1   3  ENG  NaN  NaN  NaN  NaN  NaN   8717796  NaN   58488005  NaN   \n",
       "2   3  ENG  NaN  NaN  NaN  NaN  NaN   8717808  NaN   58488005  NaN   \n",
       "3   3  ENG  NaN  NaN  NaN  NaN  NaN   8718164  NaN   58488005  NaN   \n",
       "4  19  ENG  NaN  NaN  NaN  NaN  NaN  10794494  NaN  112116001  NaN   \n",
       "\n",
       "            11  12         13                                             14  \\\n",
       "0  SNOMEDCT_US  PT   58488005              1,4-alpha-Glucan branching enzyme   \n",
       "1  SNOMEDCT_US  FN   58488005  1,4-alpha-Glucan branching enzyme (substance)   \n",
       "2  SNOMEDCT_US  SY   58488005                 Amylo-(1,4,6)-transglycosylase   \n",
       "3  SNOMEDCT_US  SY   58488005                               Branching enzyme   \n",
       "4  SNOMEDCT_US  SY  112116001                         17-hydrocorticosteroid   \n",
       "\n",
       "    15 16   17   18  \n",
       "0  NaN  N  NaN  NaN  \n",
       "1  NaN  N  NaN  NaN  \n",
       "2  NaN  N  NaN  NaN  \n",
       "3  NaN  N  NaN  NaN  \n",
       "4  NaN  N  NaN  NaN  "
      ]
     },
     "execution_count": 66,
     "metadata": {},
     "output_type": "execute_result"
    }
   ],
   "source": [
    "df2 = pd.read_csv(\"../raw_data/RxNorm/rrf/RXNCONSO.RRF\", dtype=str, header=None, sep=\"|\")\n",
    "df2.head()"
   ]
  },
  {
   "cell_type": "code",
   "execution_count": 80,
   "metadata": {
    "ExecuteTime": {
     "end_time": "2020-10-21T00:53:24.812978Z",
     "start_time": "2020-10-21T00:53:24.706905Z"
    }
   },
   "outputs": [],
   "source": [
    "valid_copts = set(df2[0])"
   ]
  },
  {
   "cell_type": "code",
   "execution_count": 106,
   "metadata": {
    "ExecuteTime": {
     "end_time": "2020-10-21T01:13:16.048325Z",
     "start_time": "2020-10-21T01:12:53.217944Z"
    }
   },
   "outputs": [],
   "source": [
    "rxcui2name = defaultdict(set)\n",
    "\n",
    "def f2(x):\n",
    "    rxcui = x[0]\n",
    "    name = x[14]\n",
    "    rxcui2name[rxcui].add(name)\n",
    "\n",
    "xx = df2.apply(f2, axis=1)"
   ]
  },
  {
   "cell_type": "code",
   "execution_count": 107,
   "metadata": {
    "ExecuteTime": {
     "end_time": "2020-10-21T01:13:16.510861Z",
     "start_time": "2020-10-21T01:13:16.050085Z"
    }
   },
   "outputs": [],
   "source": [
    "pkl_dump(rxcui2name, \"../resources/rxcui2name.pkl\")"
   ]
  },
  {
   "cell_type": "code",
   "execution_count": 75,
   "metadata": {
    "ExecuteTime": {
     "end_time": "2020-10-21T00:49:42.211155Z",
     "start_time": "2020-10-21T00:49:42.169666Z"
    },
    "scrolled": true
   },
   "outputs": [
    {
     "data": {
      "text/html": [
       "<div>\n",
       "<style scoped>\n",
       "    .dataframe tbody tr th:only-of-type {\n",
       "        vertical-align: middle;\n",
       "    }\n",
       "\n",
       "    .dataframe tbody tr th {\n",
       "        vertical-align: top;\n",
       "    }\n",
       "\n",
       "    .dataframe thead th {\n",
       "        text-align: right;\n",
       "    }\n",
       "</style>\n",
       "<table border=\"1\" class=\"dataframe\">\n",
       "  <thead>\n",
       "    <tr style=\"text-align: right;\">\n",
       "      <th></th>\n",
       "      <th>0</th>\n",
       "      <th>1</th>\n",
       "      <th>2</th>\n",
       "      <th>3</th>\n",
       "      <th>4</th>\n",
       "      <th>5</th>\n",
       "    </tr>\n",
       "  </thead>\n",
       "  <tbody>\n",
       "    <tr>\n",
       "      <th>0</th>\n",
       "      <td>91669</td>\n",
       "      <td>RXNORM_17AA_170905F</td>\n",
       "      <td>RXNORM_18AB_181203F</td>\n",
       "      <td>1</td>\n",
       "      <td>91669</td>\n",
       "      <td>NaN</td>\n",
       "    </tr>\n",
       "    <tr>\n",
       "      <th>1</th>\n",
       "      <td>91714</td>\n",
       "      <td>RXNORM_10AA_100802F</td>\n",
       "      <td>RXNORM_10AA_100802F</td>\n",
       "      <td>1</td>\n",
       "      <td>1000992</td>\n",
       "      <td>NaN</td>\n",
       "    </tr>\n",
       "    <tr>\n",
       "      <th>2</th>\n",
       "      <td>91811</td>\n",
       "      <td>RXNORM_04AC_050210F</td>\n",
       "      <td>RXNORM_09AA_090706F</td>\n",
       "      <td>1</td>\n",
       "      <td>857082</td>\n",
       "      <td>NaN</td>\n",
       "    </tr>\n",
       "    <tr>\n",
       "      <th>3</th>\n",
       "      <td>91812</td>\n",
       "      <td>RXNORM_04AC_050210F</td>\n",
       "      <td>RXNORM_09AA_090706F</td>\n",
       "      <td>1</td>\n",
       "      <td>857087</td>\n",
       "      <td>NaN</td>\n",
       "    </tr>\n",
       "    <tr>\n",
       "      <th>4</th>\n",
       "      <td>91919</td>\n",
       "      <td>RXNORM_04AC_050210F</td>\n",
       "      <td>RXNORM_09AA_090504F</td>\n",
       "      <td>1</td>\n",
       "      <td>849580</td>\n",
       "      <td>NaN</td>\n",
       "    </tr>\n",
       "  </tbody>\n",
       "</table>\n",
       "</div>"
      ],
      "text/plain": [
       "       0                    1                    2  3        4    5\n",
       "0  91669  RXNORM_17AA_170905F  RXNORM_18AB_181203F  1    91669  NaN\n",
       "1  91714  RXNORM_10AA_100802F  RXNORM_10AA_100802F  1  1000992  NaN\n",
       "2  91811  RXNORM_04AC_050210F  RXNORM_09AA_090706F  1   857082  NaN\n",
       "3  91812  RXNORM_04AC_050210F  RXNORM_09AA_090706F  1   857087  NaN\n",
       "4  91919  RXNORM_04AC_050210F  RXNORM_09AA_090504F  1   849580  NaN"
      ]
     },
     "execution_count": 75,
     "metadata": {},
     "output_type": "execute_result"
    }
   ],
   "source": [
    "# outdated concepts\n",
    "df1 = pd.read_csv(\"../raw_data/RxNorm/rrf/RXNCUI.RRF\", dtype=str, header=None, sep=\"|\")\n",
    "df1.head()"
   ]
  },
  {
   "cell_type": "code",
   "execution_count": 82,
   "metadata": {
    "ExecuteTime": {
     "end_time": "2020-10-21T00:56:24.248877Z",
     "start_time": "2020-10-21T00:56:23.389139Z"
    }
   },
   "outputs": [],
   "source": [
    "temp = defaultdict(set)\n",
    "\n",
    "def f1(x):\n",
    "    old = x[0]\n",
    "    cur = x[4]\n",
    "    if old == cur and cur not in valid_copts:\n",
    "        return\n",
    "    temp[old].add(cur)\n",
    "\n",
    "xx = df1.apply(f1, axis=1)"
   ]
  },
  {
   "cell_type": "code",
   "execution_count": 84,
   "metadata": {
    "ExecuteTime": {
     "end_time": "2020-10-21T00:56:36.896144Z",
     "start_time": "2020-10-21T00:56:36.013185Z"
    }
   },
   "outputs": [],
   "source": [
    "s = set(df1[0])\n",
    "ntemp = deepcopy(temp)\n",
    "\n",
    "flag = True\n",
    "while flag:\n",
    "    flag = False\n",
    "    for k, v in temp.items():\n",
    "        for each in v:\n",
    "            if each in s:\n",
    "                if each not in temp:\n",
    "                    continue\n",
    "                flag = True\n",
    "                nv = temp[each]\n",
    "                for e in nv:\n",
    "                    ntemp[k].add(e)\n",
    "                ntemp[k].remove(each)\n",
    "    temp = deepcopy(ntemp)"
   ]
  },
  {
   "cell_type": "code",
   "execution_count": 90,
   "metadata": {
    "ExecuteTime": {
     "end_time": "2020-10-21T00:59:17.770247Z",
     "start_time": "2020-10-21T00:59:17.752929Z"
    }
   },
   "outputs": [],
   "source": [
    "old2cur = dict()\n",
    "\n",
    "for k, v in ntemp.items():\n",
    "    if len(v) > 0:\n",
    "        old2cur[k] = v\n",
    "\n",
    "pkl_dump(old2cur, \"../resources/rxcui_remap.pkl\")"
   ]
  },
  {
   "cell_type": "code",
   "execution_count": 154,
   "metadata": {
    "ExecuteTime": {
     "end_time": "2020-10-21T01:48:31.522864Z",
     "start_time": "2020-10-21T01:48:21.709065Z"
    }
   },
   "outputs": [
    {
     "data": {
      "text/html": [
       "<div>\n",
       "<style scoped>\n",
       "    .dataframe tbody tr th:only-of-type {\n",
       "        vertical-align: middle;\n",
       "    }\n",
       "\n",
       "    .dataframe tbody tr th {\n",
       "        vertical-align: top;\n",
       "    }\n",
       "\n",
       "    .dataframe thead th {\n",
       "        text-align: right;\n",
       "    }\n",
       "</style>\n",
       "<table border=\"1\" class=\"dataframe\">\n",
       "  <thead>\n",
       "    <tr style=\"text-align: right;\">\n",
       "      <th></th>\n",
       "      <th>0</th>\n",
       "      <th>1</th>\n",
       "      <th>2</th>\n",
       "      <th>3</th>\n",
       "      <th>4</th>\n",
       "      <th>5</th>\n",
       "      <th>6</th>\n",
       "      <th>7</th>\n",
       "      <th>8</th>\n",
       "      <th>9</th>\n",
       "      <th>10</th>\n",
       "      <th>11</th>\n",
       "      <th>12</th>\n",
       "      <th>13</th>\n",
       "      <th>14</th>\n",
       "      <th>15</th>\n",
       "      <th>16</th>\n",
       "    </tr>\n",
       "  </thead>\n",
       "  <tbody>\n",
       "    <tr>\n",
       "      <th>0</th>\n",
       "      <td>NaN</td>\n",
       "      <td>5</td>\n",
       "      <td>AUI</td>\n",
       "      <td>SY</td>\n",
       "      <td>NaN</td>\n",
       "      <td>6</td>\n",
       "      <td>AUI</td>\n",
       "      <td>permuted_term_of</td>\n",
       "      <td>155592245</td>\n",
       "      <td>NaN</td>\n",
       "      <td>MSH</td>\n",
       "      <td>NaN</td>\n",
       "      <td>NaN</td>\n",
       "      <td>NaN</td>\n",
       "      <td>NaN</td>\n",
       "      <td>NaN</td>\n",
       "      <td>NaN</td>\n",
       "    </tr>\n",
       "    <tr>\n",
       "      <th>1</th>\n",
       "      <td>NaN</td>\n",
       "      <td>5</td>\n",
       "      <td>SDUI</td>\n",
       "      <td>SIB</td>\n",
       "      <td>NaN</td>\n",
       "      <td>104746</td>\n",
       "      <td>SDUI</td>\n",
       "      <td>NaN</td>\n",
       "      <td>154524204</td>\n",
       "      <td>NaN</td>\n",
       "      <td>MSH</td>\n",
       "      <td>NaN</td>\n",
       "      <td>NaN</td>\n",
       "      <td>NaN</td>\n",
       "      <td>NaN</td>\n",
       "      <td>NaN</td>\n",
       "      <td>NaN</td>\n",
       "    </tr>\n",
       "    <tr>\n",
       "      <th>2</th>\n",
       "      <td>NaN</td>\n",
       "      <td>5</td>\n",
       "      <td>SDUI</td>\n",
       "      <td>RN</td>\n",
       "      <td>NaN</td>\n",
       "      <td>609702</td>\n",
       "      <td>SDUI</td>\n",
       "      <td>mapped_to</td>\n",
       "      <td>154691227</td>\n",
       "      <td>NaN</td>\n",
       "      <td>MSH</td>\n",
       "      <td>NaN</td>\n",
       "      <td>1</td>\n",
       "      <td>NaN</td>\n",
       "      <td>NaN</td>\n",
       "      <td>NaN</td>\n",
       "      <td>NaN</td>\n",
       "    </tr>\n",
       "    <tr>\n",
       "      <th>3</th>\n",
       "      <td>NaN</td>\n",
       "      <td>5</td>\n",
       "      <td>AUI</td>\n",
       "      <td>SY</td>\n",
       "      <td>NaN</td>\n",
       "      <td>2666961</td>\n",
       "      <td>AUI</td>\n",
       "      <td>sort_version_of</td>\n",
       "      <td>155371534</td>\n",
       "      <td>NaN</td>\n",
       "      <td>MSH</td>\n",
       "      <td>NaN</td>\n",
       "      <td>NaN</td>\n",
       "      <td>NaN</td>\n",
       "      <td>NaN</td>\n",
       "      <td>NaN</td>\n",
       "      <td>NaN</td>\n",
       "    </tr>\n",
       "    <tr>\n",
       "      <th>4</th>\n",
       "      <td>NaN</td>\n",
       "      <td>5</td>\n",
       "      <td>AUI</td>\n",
       "      <td>SY</td>\n",
       "      <td>NaN</td>\n",
       "      <td>2681015</td>\n",
       "      <td>AUI</td>\n",
       "      <td>entry_version_of</td>\n",
       "      <td>155054914</td>\n",
       "      <td>NaN</td>\n",
       "      <td>MSH</td>\n",
       "      <td>NaN</td>\n",
       "      <td>NaN</td>\n",
       "      <td>NaN</td>\n",
       "      <td>NaN</td>\n",
       "      <td>NaN</td>\n",
       "      <td>NaN</td>\n",
       "    </tr>\n",
       "  </tbody>\n",
       "</table>\n",
       "</div>"
      ],
      "text/plain": [
       "    0  1     2    3    4        5     6                 7          8    9   \\\n",
       "0  NaN  5   AUI   SY  NaN        6   AUI  permuted_term_of  155592245  NaN   \n",
       "1  NaN  5  SDUI  SIB  NaN   104746  SDUI               NaN  154524204  NaN   \n",
       "2  NaN  5  SDUI   RN  NaN   609702  SDUI         mapped_to  154691227  NaN   \n",
       "3  NaN  5   AUI   SY  NaN  2666961   AUI   sort_version_of  155371534  NaN   \n",
       "4  NaN  5   AUI   SY  NaN  2681015   AUI  entry_version_of  155054914  NaN   \n",
       "\n",
       "    10   11   12   13   14   15   16  \n",
       "0  MSH  NaN  NaN  NaN  NaN  NaN  NaN  \n",
       "1  MSH  NaN  NaN  NaN  NaN  NaN  NaN  \n",
       "2  MSH  NaN    1  NaN  NaN  NaN  NaN  \n",
       "3  MSH  NaN  NaN  NaN  NaN  NaN  NaN  \n",
       "4  MSH  NaN  NaN  NaN  NaN  NaN  NaN  "
      ]
     },
     "execution_count": 154,
     "metadata": {},
     "output_type": "execute_result"
    }
   ],
   "source": [
    "df3 = pd.read_csv(\"../raw_data/RxNorm/rrf/RXNREL.RRF\", dtype=str, header=None, sep=\"|\")\n",
    "df3.head()"
   ]
  },
  {
   "cell_type": "code",
   "execution_count": 151,
   "metadata": {
    "ExecuteTime": {
     "end_time": "2020-10-21T01:44:53.475326Z",
     "start_time": "2020-10-21T01:44:53.470937Z"
    }
   },
   "outputs": [
    {
     "data": {
      "text/html": [
       "<img src=\"../raw_data/RxNorm_Drug_Relationships.png\"/>"
      ],
      "text/plain": [
       "<IPython.core.display.Image object>"
      ]
     },
     "execution_count": 151,
     "metadata": {},
     "output_type": "execute_result"
    }
   ],
   "source": [
    "from IPython.display import Image\n",
    "from IPython.core.display import HTML \n",
    "Image(url= \"../raw_data/RxNorm_Drug_Relationships.png\")"
   ]
  },
  {
   "cell_type": "code",
   "execution_count": 116,
   "metadata": {
    "ExecuteTime": {
     "end_time": "2020-10-21T01:18:00.706671Z",
     "start_time": "2020-10-21T01:18:00.590049Z"
    }
   },
   "outputs": [],
   "source": [
    "ingredients = set(df2[(df2[12]=='IN') & (df2[11]=='RXNORM')][0])"
   ]
  },
  {
   "cell_type": "code",
   "execution_count": 197,
   "metadata": {
    "ExecuteTime": {
     "end_time": "2020-10-21T03:14:30.486253Z",
     "start_time": "2020-10-21T03:11:52.303000Z"
    },
    "collapsed": true
   },
   "outputs": [
    {
     "name": "stderr",
     "output_type": "stream",
     "text": [
      "\n",
      "\n",
      "\n",
      "\n",
      "\n",
      "\n",
      "\n",
      "\n",
      "\n",
      "  0%|          | 0/12969 [00:00<?, ?it/s]\u001b[A\u001b[A\u001b[A\u001b[A\u001b[A\u001b[A\u001b[A\u001b[A\u001b[A\n",
      "\n",
      "\n",
      "\n",
      "\n",
      "\n",
      "\n",
      "\n",
      "\n",
      "  0%|          | 1/12969 [00:00<28:57,  7.46it/s]\u001b[A\u001b[A\u001b[A\u001b[A\u001b[A\u001b[A\u001b[A\u001b[A\u001b[A\n",
      "\n",
      "\n",
      "\n",
      "\n",
      "\n",
      "\n",
      "\n",
      "\n",
      "  0%|          | 2/12969 [00:00<28:34,  7.56it/s]\u001b[A\u001b[A\u001b[A\u001b[A\u001b[A\u001b[A\u001b[A\u001b[A\u001b[A\n",
      "\n",
      "\n",
      "\n",
      "\n",
      "\n",
      "\n",
      "\n",
      "\n",
      "  0%|          | 3/12969 [00:00<28:42,  7.53it/s]\u001b[A\u001b[A\u001b[A\u001b[A\u001b[A\u001b[A\u001b[A\u001b[A\u001b[A\n",
      "\n",
      "\n",
      "\n",
      "\n",
      "\n",
      "\n",
      "\n",
      "\n",
      "  0%|          | 4/12969 [00:15<16:30:12,  4.58s/it]\u001b[A\u001b[A\u001b[A\u001b[A\u001b[A\u001b[A\u001b[A\u001b[A\u001b[A\n",
      "\n",
      "\n",
      "\n",
      "\n",
      "\n",
      "\n",
      "\n",
      "\n",
      "  0%|          | 5/12969 [00:29<26:44:51,  7.43s/it]\u001b[A\u001b[A\u001b[A\u001b[A\u001b[A\u001b[A\u001b[A\u001b[A\u001b[A\n",
      "\n",
      "\n",
      "\n",
      "\n",
      "\n",
      "\n",
      "\n",
      "\n",
      "  0%|          | 6/12969 [01:41<96:20:49, 26.76s/it]\u001b[A\u001b[A\u001b[A\u001b[A\u001b[A\u001b[A\u001b[A\u001b[A\u001b[A\n",
      "\n",
      "\n",
      "\n",
      "\n",
      "\n",
      "\n",
      "\n",
      "\n",
      "  0%|          | 7/12969 [01:41<67:34:51, 18.77s/it]\u001b[A\u001b[A\u001b[A\u001b[A\u001b[A\u001b[A\u001b[A\u001b[A\u001b[A\n",
      "\n",
      "\n",
      "\n",
      "\n",
      "\n",
      "\n",
      "\n",
      "\n",
      "  0%|          | 8/12969 [01:41<47:26:41, 13.18s/it]\u001b[A\u001b[A\u001b[A\u001b[A\u001b[A\u001b[A\u001b[A\u001b[A\u001b[A\n",
      "\n",
      "\n",
      "\n",
      "\n",
      "\n",
      "\n",
      "\n",
      "\n",
      "  0%|          | 9/12969 [01:59<52:23:52, 14.55s/it]\u001b[A\u001b[A\u001b[A\u001b[A\u001b[A\u001b[A\u001b[A\u001b[A\u001b[A\n",
      "\n",
      "\n",
      "\n",
      "\n",
      "\n",
      "\n",
      "\n",
      "\n",
      "  0%|          | 10/12969 [02:15<53:52:22, 14.97s/it]\u001b[A\u001b[A\u001b[A\u001b[A\u001b[A\u001b[A\u001b[A\u001b[A\u001b[A\n",
      "\n",
      "\n",
      "\n",
      "\n",
      "\n",
      "\n",
      "\n",
      "\n",
      "  0%|          | 11/12969 [02:15<37:51:00, 10.52s/it]\u001b[A\u001b[A\u001b[A\u001b[A\u001b[A\u001b[A\u001b[A\u001b[A\u001b[A\n",
      "\n",
      "\n",
      "\n",
      "\n",
      "\n",
      "\n",
      "\n",
      "\n",
      "  0%|          | 12/12969 [02:29<41:58:20, 11.66s/it]\u001b[A\u001b[A\u001b[A\u001b[A\u001b[A\u001b[A\u001b[A\u001b[A\u001b[A\n",
      "\n",
      "\n",
      "\n",
      "\n",
      "\n",
      "\n",
      "\n",
      "\n",
      "  0%|          | 13/12969 [02:30<30:26:24,  8.46s/it]\u001b[A\u001b[A\u001b[A\u001b[A\u001b[A\u001b[A\u001b[A\u001b[A\u001b[A\n",
      "\n",
      "\n",
      "\n",
      "\n",
      "\n",
      "\n",
      "\n",
      "\n",
      "  0%|          | 14/12969 [02:30<21:27:02,  5.96s/it]\u001b[A\u001b[A\u001b[A\u001b[A\u001b[A\u001b[A\u001b[A\u001b[A\u001b[A\n",
      "\n",
      "\n",
      "\n",
      "\n",
      "\n",
      "\n",
      "\n",
      "\n",
      "  0%|          | 15/12969 [02:30<15:09:08,  4.21s/it]\u001b[A\u001b[A\u001b[A\u001b[A\u001b[A\u001b[A\u001b[A\u001b[A\u001b[A\n",
      "KeyboardInterrupt\n",
      "\n"
     ]
    }
   ],
   "source": [
    "ingrad_map = dict()\n",
    "\n",
    "for ingrd in ingredients:\n",
    "    ingrad_map[ingrd] = set()\n",
    "    \n",
    "    s = list(set(df3[df3[0]==ingrd][4]))\n",
    "    exist = set(deepcopy(s))\n",
    "    \n",
    "    while len(s) > 0:\n",
    "        sub_ingrad = s.pop()\n",
    "        ingrad_map[ingrd].add(sub_ingrad)        \n",
    "#         sub_df = df3[(df3[0]==sub_ingrad) & (df3[7]=='isa') & (df3[7]=='constitutes') & (df3[7]=='tradename_of')]\n",
    "        sub_df = df3[(df3[0]==sub_ingrad) & ((df3[7]=='isa') | (df3[7]=='tradename_of') | (df3[7]=='constitutes') | (df3[7]=='has_ingredient'))]\n",
    "        for e in set(sub_df[4]):\n",
    "            if e not in ingredients and e not in exist:\n",
    "                exist.add(e)\n",
    "                s.append(e)"
   ]
  },
  {
   "cell_type": "code",
   "execution_count": 200,
   "metadata": {
    "ExecuteTime": {
     "end_time": "2020-10-21T03:17:13.925872Z",
     "start_time": "2020-10-21T03:17:13.920208Z"
    }
   },
   "outputs": [],
   "source": [
    "def helper(ingrd):\n",
    "    ingrad_map = dict()\n",
    "    ingrad_map[ingrd] = set()\n",
    "    \n",
    "    s = list(set(df3[df3[0]==ingrd][4]))\n",
    "    exist = set(deepcopy(s))\n",
    "    \n",
    "    while len(s) > 0:\n",
    "        sub_ingrad = s.pop()\n",
    "        ingrad_map[ingrd].add(sub_ingrad)        \n",
    "#         sub_df = df3[(df3[0]==sub_ingrad) & (df3[7]=='isa') & (df3[7]=='constitutes') & (df3[7]=='tradename_of')]\n",
    "        sub_df = df3[(df3[0]==sub_ingrad) & ((df3[7]=='isa') | (df3[7]=='tradename_of') | (df3[7]=='constitutes') | (df3[7]=='has_ingredient'))]\n",
    "        for e in set(sub_df[4]):\n",
    "            if e not in ingredients and e not in exist:\n",
    "                exist.add(e)\n",
    "                s.append(e)\n",
    "    return ingrad_map"
   ]
  },
  {
   "cell_type": "code",
   "execution_count": 203,
   "metadata": {
    "ExecuteTime": {
     "end_time": "2020-10-21T03:22:11.794354Z",
     "start_time": "2020-10-21T03:19:24.601353Z"
    },
    "collapsed": true
   },
   "outputs": [
    {
     "ename": "KeyboardInterrupt",
     "evalue": "",
     "output_type": "error",
     "traceback": [
      "\u001b[0;31m---------------------------------------------------------------------------\u001b[0m",
      "\u001b[0;31mKeyboardInterrupt\u001b[0m                         Traceback (most recent call last)",
      "\u001b[0;32m<ipython-input-203-0605d8102308>\u001b[0m in \u001b[0;36m<module>\u001b[0;34m\u001b[0m\n\u001b[1;32m      3\u001b[0m \u001b[0;32mwith\u001b[0m \u001b[0mProcessPoolExecutor\u001b[0m\u001b[0;34m(\u001b[0m\u001b[0mmax_workers\u001b[0m\u001b[0;34m=\u001b[0m\u001b[0;36m12\u001b[0m\u001b[0;34m)\u001b[0m \u001b[0;32mas\u001b[0m \u001b[0mexe\u001b[0m\u001b[0;34m:\u001b[0m\u001b[0;34m\u001b[0m\u001b[0;34m\u001b[0m\u001b[0m\n\u001b[0;32m----> 4\u001b[0;31m     \u001b[0;32mfor\u001b[0m \u001b[0meach\u001b[0m \u001b[0;32min\u001b[0m \u001b[0mexe\u001b[0m\u001b[0;34m.\u001b[0m\u001b[0mmap\u001b[0m\u001b[0;34m(\u001b[0m\u001b[0mhelper\u001b[0m\u001b[0;34m,\u001b[0m \u001b[0mingredients\u001b[0m\u001b[0;34m)\u001b[0m\u001b[0;34m:\u001b[0m\u001b[0;34m\u001b[0m\u001b[0;34m\u001b[0m\u001b[0m\n\u001b[0m\u001b[1;32m      5\u001b[0m         \u001b[0mfinal_ingra_map\u001b[0m\u001b[0;34m.\u001b[0m\u001b[0mupdate\u001b[0m\u001b[0;34m(\u001b[0m\u001b[0meach\u001b[0m\u001b[0;34m)\u001b[0m\u001b[0;34m\u001b[0m\u001b[0;34m\u001b[0m\u001b[0m\n",
      "\u001b[0;32m/Users/alexgre/.pyenv/versions/miniconda3-latest/lib/python3.7/concurrent/futures/process.py\u001b[0m in \u001b[0;36m_chain_from_iterable_of_lists\u001b[0;34m(iterable)\u001b[0m\n\u001b[1;32m    482\u001b[0m     \"\"\"\n\u001b[0;32m--> 483\u001b[0;31m     \u001b[0;32mfor\u001b[0m \u001b[0melement\u001b[0m \u001b[0;32min\u001b[0m \u001b[0miterable\u001b[0m\u001b[0;34m:\u001b[0m\u001b[0;34m\u001b[0m\u001b[0;34m\u001b[0m\u001b[0m\n\u001b[0m\u001b[1;32m    484\u001b[0m         \u001b[0melement\u001b[0m\u001b[0;34m.\u001b[0m\u001b[0mreverse\u001b[0m\u001b[0;34m(\u001b[0m\u001b[0;34m)\u001b[0m\u001b[0;34m\u001b[0m\u001b[0;34m\u001b[0m\u001b[0m\n",
      "\u001b[0;32m/Users/alexgre/.pyenv/versions/miniconda3-latest/lib/python3.7/concurrent/futures/_base.py\u001b[0m in \u001b[0;36mresult_iterator\u001b[0;34m()\u001b[0m\n\u001b[1;32m    597\u001b[0m                     \u001b[0;32mif\u001b[0m \u001b[0mtimeout\u001b[0m \u001b[0;32mis\u001b[0m \u001b[0;32mNone\u001b[0m\u001b[0;34m:\u001b[0m\u001b[0;34m\u001b[0m\u001b[0;34m\u001b[0m\u001b[0m\n\u001b[0;32m--> 598\u001b[0;31m                         \u001b[0;32myield\u001b[0m \u001b[0mfs\u001b[0m\u001b[0;34m.\u001b[0m\u001b[0mpop\u001b[0m\u001b[0;34m(\u001b[0m\u001b[0;34m)\u001b[0m\u001b[0;34m.\u001b[0m\u001b[0mresult\u001b[0m\u001b[0;34m(\u001b[0m\u001b[0;34m)\u001b[0m\u001b[0;34m\u001b[0m\u001b[0;34m\u001b[0m\u001b[0m\n\u001b[0m\u001b[1;32m    599\u001b[0m                     \u001b[0;32melse\u001b[0m\u001b[0;34m:\u001b[0m\u001b[0;34m\u001b[0m\u001b[0;34m\u001b[0m\u001b[0m\n",
      "\u001b[0;32m/Users/alexgre/.pyenv/versions/miniconda3-latest/lib/python3.7/concurrent/futures/_base.py\u001b[0m in \u001b[0;36mresult\u001b[0;34m(self, timeout)\u001b[0m\n\u001b[1;32m    429\u001b[0m \u001b[0;34m\u001b[0m\u001b[0m\n\u001b[0;32m--> 430\u001b[0;31m             \u001b[0mself\u001b[0m\u001b[0;34m.\u001b[0m\u001b[0m_condition\u001b[0m\u001b[0;34m.\u001b[0m\u001b[0mwait\u001b[0m\u001b[0;34m(\u001b[0m\u001b[0mtimeout\u001b[0m\u001b[0;34m)\u001b[0m\u001b[0;34m\u001b[0m\u001b[0;34m\u001b[0m\u001b[0m\n\u001b[0m\u001b[1;32m    431\u001b[0m \u001b[0;34m\u001b[0m\u001b[0m\n",
      "\u001b[0;32m/Users/alexgre/.pyenv/versions/miniconda3-latest/lib/python3.7/threading.py\u001b[0m in \u001b[0;36mwait\u001b[0;34m(self, timeout)\u001b[0m\n\u001b[1;32m    295\u001b[0m             \u001b[0;32mif\u001b[0m \u001b[0mtimeout\u001b[0m \u001b[0;32mis\u001b[0m \u001b[0;32mNone\u001b[0m\u001b[0;34m:\u001b[0m\u001b[0;34m\u001b[0m\u001b[0;34m\u001b[0m\u001b[0m\n\u001b[0;32m--> 296\u001b[0;31m                 \u001b[0mwaiter\u001b[0m\u001b[0;34m.\u001b[0m\u001b[0macquire\u001b[0m\u001b[0;34m(\u001b[0m\u001b[0;34m)\u001b[0m\u001b[0;34m\u001b[0m\u001b[0;34m\u001b[0m\u001b[0m\n\u001b[0m\u001b[1;32m    297\u001b[0m                 \u001b[0mgotit\u001b[0m \u001b[0;34m=\u001b[0m \u001b[0;32mTrue\u001b[0m\u001b[0;34m\u001b[0m\u001b[0;34m\u001b[0m\u001b[0m\n",
      "\u001b[0;31mKeyboardInterrupt\u001b[0m: ",
      "\nDuring handling of the above exception, another exception occurred:\n",
      "\u001b[0;31mKeyboardInterrupt\u001b[0m                         Traceback (most recent call last)",
      "\u001b[0;32m<ipython-input-203-0605d8102308>\u001b[0m in \u001b[0;36m<module>\u001b[0;34m\u001b[0m\n\u001b[1;32m      3\u001b[0m \u001b[0;32mwith\u001b[0m \u001b[0mProcessPoolExecutor\u001b[0m\u001b[0;34m(\u001b[0m\u001b[0mmax_workers\u001b[0m\u001b[0;34m=\u001b[0m\u001b[0;36m12\u001b[0m\u001b[0;34m)\u001b[0m \u001b[0;32mas\u001b[0m \u001b[0mexe\u001b[0m\u001b[0;34m:\u001b[0m\u001b[0;34m\u001b[0m\u001b[0;34m\u001b[0m\u001b[0m\n\u001b[1;32m      4\u001b[0m     \u001b[0;32mfor\u001b[0m \u001b[0meach\u001b[0m \u001b[0;32min\u001b[0m \u001b[0mexe\u001b[0m\u001b[0;34m.\u001b[0m\u001b[0mmap\u001b[0m\u001b[0;34m(\u001b[0m\u001b[0mhelper\u001b[0m\u001b[0;34m,\u001b[0m \u001b[0mingredients\u001b[0m\u001b[0;34m)\u001b[0m\u001b[0;34m:\u001b[0m\u001b[0;34m\u001b[0m\u001b[0;34m\u001b[0m\u001b[0m\n\u001b[0;32m----> 5\u001b[0;31m         \u001b[0mfinal_ingra_map\u001b[0m\u001b[0;34m.\u001b[0m\u001b[0mupdate\u001b[0m\u001b[0;34m(\u001b[0m\u001b[0meach\u001b[0m\u001b[0;34m)\u001b[0m\u001b[0;34m\u001b[0m\u001b[0;34m\u001b[0m\u001b[0m\n\u001b[0m",
      "\u001b[0;32m/Users/alexgre/.pyenv/versions/miniconda3-latest/lib/python3.7/concurrent/futures/_base.py\u001b[0m in \u001b[0;36m__exit__\u001b[0;34m(self, exc_type, exc_val, exc_tb)\u001b[0m\n\u001b[1;32m    621\u001b[0m \u001b[0;34m\u001b[0m\u001b[0m\n\u001b[1;32m    622\u001b[0m     \u001b[0;32mdef\u001b[0m \u001b[0m__exit__\u001b[0m\u001b[0;34m(\u001b[0m\u001b[0mself\u001b[0m\u001b[0;34m,\u001b[0m \u001b[0mexc_type\u001b[0m\u001b[0;34m,\u001b[0m \u001b[0mexc_val\u001b[0m\u001b[0;34m,\u001b[0m \u001b[0mexc_tb\u001b[0m\u001b[0;34m)\u001b[0m\u001b[0;34m:\u001b[0m\u001b[0;34m\u001b[0m\u001b[0;34m\u001b[0m\u001b[0m\n\u001b[0;32m--> 623\u001b[0;31m         \u001b[0mself\u001b[0m\u001b[0;34m.\u001b[0m\u001b[0mshutdown\u001b[0m\u001b[0;34m(\u001b[0m\u001b[0mwait\u001b[0m\u001b[0;34m=\u001b[0m\u001b[0;32mTrue\u001b[0m\u001b[0;34m)\u001b[0m\u001b[0;34m\u001b[0m\u001b[0;34m\u001b[0m\u001b[0m\n\u001b[0m\u001b[1;32m    624\u001b[0m         \u001b[0;32mreturn\u001b[0m \u001b[0;32mFalse\u001b[0m\u001b[0;34m\u001b[0m\u001b[0;34m\u001b[0m\u001b[0m\n\u001b[1;32m    625\u001b[0m \u001b[0;34m\u001b[0m\u001b[0m\n",
      "\u001b[0;32m/Users/alexgre/.pyenv/versions/miniconda3-latest/lib/python3.7/concurrent/futures/process.py\u001b[0m in \u001b[0;36mshutdown\u001b[0;34m(self, wait)\u001b[0m\n\u001b[1;32m    679\u001b[0m             \u001b[0mself\u001b[0m\u001b[0;34m.\u001b[0m\u001b[0m_queue_management_thread_wakeup\u001b[0m\u001b[0;34m.\u001b[0m\u001b[0mwakeup\u001b[0m\u001b[0;34m(\u001b[0m\u001b[0;34m)\u001b[0m\u001b[0;34m\u001b[0m\u001b[0;34m\u001b[0m\u001b[0m\n\u001b[1;32m    680\u001b[0m             \u001b[0;32mif\u001b[0m \u001b[0mwait\u001b[0m\u001b[0;34m:\u001b[0m\u001b[0;34m\u001b[0m\u001b[0;34m\u001b[0m\u001b[0m\n\u001b[0;32m--> 681\u001b[0;31m                 \u001b[0mself\u001b[0m\u001b[0;34m.\u001b[0m\u001b[0m_queue_management_thread\u001b[0m\u001b[0;34m.\u001b[0m\u001b[0mjoin\u001b[0m\u001b[0;34m(\u001b[0m\u001b[0;34m)\u001b[0m\u001b[0;34m\u001b[0m\u001b[0;34m\u001b[0m\u001b[0m\n\u001b[0m\u001b[1;32m    682\u001b[0m         \u001b[0;31m# To reduce the risk of opening too many files, remove references to\u001b[0m\u001b[0;34m\u001b[0m\u001b[0;34m\u001b[0m\u001b[0;34m\u001b[0m\u001b[0m\n\u001b[1;32m    683\u001b[0m         \u001b[0;31m# objects that use file descriptors.\u001b[0m\u001b[0;34m\u001b[0m\u001b[0;34m\u001b[0m\u001b[0;34m\u001b[0m\u001b[0m\n",
      "\u001b[0;32m/Users/alexgre/.pyenv/versions/miniconda3-latest/lib/python3.7/threading.py\u001b[0m in \u001b[0;36mjoin\u001b[0;34m(self, timeout)\u001b[0m\n\u001b[1;32m   1042\u001b[0m \u001b[0;34m\u001b[0m\u001b[0m\n\u001b[1;32m   1043\u001b[0m         \u001b[0;32mif\u001b[0m \u001b[0mtimeout\u001b[0m \u001b[0;32mis\u001b[0m \u001b[0;32mNone\u001b[0m\u001b[0;34m:\u001b[0m\u001b[0;34m\u001b[0m\u001b[0;34m\u001b[0m\u001b[0m\n\u001b[0;32m-> 1044\u001b[0;31m             \u001b[0mself\u001b[0m\u001b[0;34m.\u001b[0m\u001b[0m_wait_for_tstate_lock\u001b[0m\u001b[0;34m(\u001b[0m\u001b[0;34m)\u001b[0m\u001b[0;34m\u001b[0m\u001b[0;34m\u001b[0m\u001b[0m\n\u001b[0m\u001b[1;32m   1045\u001b[0m         \u001b[0;32melse\u001b[0m\u001b[0;34m:\u001b[0m\u001b[0;34m\u001b[0m\u001b[0;34m\u001b[0m\u001b[0m\n\u001b[1;32m   1046\u001b[0m             \u001b[0;31m# the behavior of a negative timeout isn't documented, but\u001b[0m\u001b[0;34m\u001b[0m\u001b[0;34m\u001b[0m\u001b[0;34m\u001b[0m\u001b[0m\n",
      "\u001b[0;32m/Users/alexgre/.pyenv/versions/miniconda3-latest/lib/python3.7/threading.py\u001b[0m in \u001b[0;36m_wait_for_tstate_lock\u001b[0;34m(self, block, timeout)\u001b[0m\n\u001b[1;32m   1058\u001b[0m         \u001b[0;32mif\u001b[0m \u001b[0mlock\u001b[0m \u001b[0;32mis\u001b[0m \u001b[0;32mNone\u001b[0m\u001b[0;34m:\u001b[0m  \u001b[0;31m# already determined that the C code is done\u001b[0m\u001b[0;34m\u001b[0m\u001b[0;34m\u001b[0m\u001b[0m\n\u001b[1;32m   1059\u001b[0m             \u001b[0;32massert\u001b[0m \u001b[0mself\u001b[0m\u001b[0;34m.\u001b[0m\u001b[0m_is_stopped\u001b[0m\u001b[0;34m\u001b[0m\u001b[0;34m\u001b[0m\u001b[0m\n\u001b[0;32m-> 1060\u001b[0;31m         \u001b[0;32melif\u001b[0m \u001b[0mlock\u001b[0m\u001b[0;34m.\u001b[0m\u001b[0macquire\u001b[0m\u001b[0;34m(\u001b[0m\u001b[0mblock\u001b[0m\u001b[0;34m,\u001b[0m \u001b[0mtimeout\u001b[0m\u001b[0;34m)\u001b[0m\u001b[0;34m:\u001b[0m\u001b[0;34m\u001b[0m\u001b[0;34m\u001b[0m\u001b[0m\n\u001b[0m\u001b[1;32m   1061\u001b[0m             \u001b[0mlock\u001b[0m\u001b[0;34m.\u001b[0m\u001b[0mrelease\u001b[0m\u001b[0;34m(\u001b[0m\u001b[0;34m)\u001b[0m\u001b[0;34m\u001b[0m\u001b[0;34m\u001b[0m\u001b[0m\n\u001b[1;32m   1062\u001b[0m             \u001b[0mself\u001b[0m\u001b[0;34m.\u001b[0m\u001b[0m_stop\u001b[0m\u001b[0;34m(\u001b[0m\u001b[0;34m)\u001b[0m\u001b[0;34m\u001b[0m\u001b[0;34m\u001b[0m\u001b[0m\n",
      "\u001b[0;31mKeyboardInterrupt\u001b[0m: "
     ]
    },
    {
     "name": "stderr",
     "output_type": "stream",
     "text": [
      "Process ForkProcess-3:\n",
      "Process ForkProcess-7:\n",
      "Process ForkProcess-12:\n",
      "Process ForkProcess-9:\n",
      "Process ForkProcess-4:\n",
      "Process ForkProcess-2:\n",
      "Process ForkProcess-11:\n",
      "Process ForkProcess-1:\n",
      "Process ForkProcess-10:\n",
      "Process ForkProcess-6:\n",
      "Traceback (most recent call last):\n",
      "Traceback (most recent call last):\n"
     ]
    }
   ],
   "source": [
    "final_ingra_map = dict()\n",
    "\n",
    "with ProcessPoolExecutor(max_workers=8) as exe:\n",
    "    for each in exe.map(helper, ingredients):\n",
    "        final_ingra_map.update(each)"
   ]
  },
  {
   "cell_type": "code",
   "execution_count": 205,
   "metadata": {
    "ExecuteTime": {
     "end_time": "2020-10-21T03:22:40.446550Z",
     "start_time": "2020-10-21T03:22:40.442468Z"
    }
   },
   "outputs": [],
   "source": [
    "rxcui2ingre = defaultdict(set)\n",
    "for k, v in final_ingra_map.items():\n",
    "    for each in v:\n",
    "        rxcui2ingre[each] = k\n",
    "pkl_dump(rxcui2ingre, \"../resources/rxcui2ingredient.pkl\")"
   ]
  },
  {
   "cell_type": "code",
   "execution_count": 6,
   "metadata": {
    "ExecuteTime": {
     "end_time": "2020-10-21T04:13:54.140372Z",
     "start_time": "2020-10-21T04:13:43.595608Z"
    }
   },
   "outputs": [
    {
     "data": {
      "text/html": [
       "<div>\n",
       "<style scoped>\n",
       "    .dataframe tbody tr th:only-of-type {\n",
       "        vertical-align: middle;\n",
       "    }\n",
       "\n",
       "    .dataframe tbody tr th {\n",
       "        vertical-align: top;\n",
       "    }\n",
       "\n",
       "    .dataframe thead th {\n",
       "        text-align: right;\n",
       "    }\n",
       "</style>\n",
       "<table border=\"1\" class=\"dataframe\">\n",
       "  <thead>\n",
       "    <tr style=\"text-align: right;\">\n",
       "      <th></th>\n",
       "      <th>0</th>\n",
       "      <th>1</th>\n",
       "      <th>2</th>\n",
       "      <th>3</th>\n",
       "      <th>4</th>\n",
       "      <th>5</th>\n",
       "      <th>6</th>\n",
       "      <th>7</th>\n",
       "      <th>8</th>\n",
       "      <th>9</th>\n",
       "      <th>10</th>\n",
       "      <th>11</th>\n",
       "      <th>12</th>\n",
       "      <th>13</th>\n",
       "    </tr>\n",
       "  </thead>\n",
       "  <tbody>\n",
       "    <tr>\n",
       "      <th>0</th>\n",
       "      <td>3</td>\n",
       "      <td>NaN</td>\n",
       "      <td>NaN</td>\n",
       "      <td>8717795</td>\n",
       "      <td>AUI</td>\n",
       "      <td>58488005</td>\n",
       "      <td>NaN</td>\n",
       "      <td>NaN</td>\n",
       "      <td>UMLSAUI</td>\n",
       "      <td>RXNORM</td>\n",
       "      <td>A27769867</td>\n",
       "      <td>NaN</td>\n",
       "      <td>NaN</td>\n",
       "      <td>NaN</td>\n",
       "    </tr>\n",
       "    <tr>\n",
       "      <th>1</th>\n",
       "      <td>3</td>\n",
       "      <td>NaN</td>\n",
       "      <td>NaN</td>\n",
       "      <td>8717795</td>\n",
       "      <td>AUI</td>\n",
       "      <td>58488005</td>\n",
       "      <td>NaN</td>\n",
       "      <td>NaN</td>\n",
       "      <td>UMLSCUI</td>\n",
       "      <td>RXNORM</td>\n",
       "      <td>C0000052</td>\n",
       "      <td>NaN</td>\n",
       "      <td>NaN</td>\n",
       "      <td>NaN</td>\n",
       "    </tr>\n",
       "    <tr>\n",
       "      <th>2</th>\n",
       "      <td>3</td>\n",
       "      <td>NaN</td>\n",
       "      <td>NaN</td>\n",
       "      <td>8717796</td>\n",
       "      <td>AUI</td>\n",
       "      <td>58488005</td>\n",
       "      <td>NaN</td>\n",
       "      <td>NaN</td>\n",
       "      <td>UMLSAUI</td>\n",
       "      <td>RXNORM</td>\n",
       "      <td>A27780666</td>\n",
       "      <td>NaN</td>\n",
       "      <td>NaN</td>\n",
       "      <td>NaN</td>\n",
       "    </tr>\n",
       "    <tr>\n",
       "      <th>3</th>\n",
       "      <td>3</td>\n",
       "      <td>NaN</td>\n",
       "      <td>NaN</td>\n",
       "      <td>8717796</td>\n",
       "      <td>AUI</td>\n",
       "      <td>58488005</td>\n",
       "      <td>NaN</td>\n",
       "      <td>NaN</td>\n",
       "      <td>UMLSCUI</td>\n",
       "      <td>RXNORM</td>\n",
       "      <td>C0000052</td>\n",
       "      <td>NaN</td>\n",
       "      <td>NaN</td>\n",
       "      <td>NaN</td>\n",
       "    </tr>\n",
       "    <tr>\n",
       "      <th>4</th>\n",
       "      <td>3</td>\n",
       "      <td>NaN</td>\n",
       "      <td>NaN</td>\n",
       "      <td>8717808</td>\n",
       "      <td>AUI</td>\n",
       "      <td>58488005</td>\n",
       "      <td>NaN</td>\n",
       "      <td>NaN</td>\n",
       "      <td>UMLSAUI</td>\n",
       "      <td>RXNORM</td>\n",
       "      <td>A27766654</td>\n",
       "      <td>NaN</td>\n",
       "      <td>NaN</td>\n",
       "      <td>NaN</td>\n",
       "    </tr>\n",
       "  </tbody>\n",
       "</table>\n",
       "</div>"
      ],
      "text/plain": [
       "  0    1    2        3    4         5    6    7        8       9          10  \\\n",
       "0  3  NaN  NaN  8717795  AUI  58488005  NaN  NaN  UMLSAUI  RXNORM  A27769867   \n",
       "1  3  NaN  NaN  8717795  AUI  58488005  NaN  NaN  UMLSCUI  RXNORM   C0000052   \n",
       "2  3  NaN  NaN  8717796  AUI  58488005  NaN  NaN  UMLSAUI  RXNORM  A27780666   \n",
       "3  3  NaN  NaN  8717796  AUI  58488005  NaN  NaN  UMLSCUI  RXNORM   C0000052   \n",
       "4  3  NaN  NaN  8717808  AUI  58488005  NaN  NaN  UMLSAUI  RXNORM  A27766654   \n",
       "\n",
       "    11   12   13  \n",
       "0  NaN  NaN  NaN  \n",
       "1  NaN  NaN  NaN  \n",
       "2  NaN  NaN  NaN  \n",
       "3  NaN  NaN  NaN  \n",
       "4  NaN  NaN  NaN  "
      ]
     },
     "execution_count": 6,
     "metadata": {},
     "output_type": "execute_result"
    }
   ],
   "source": [
    "#ndc to rxcui\n",
    "df4 = pd.read_csv(\"../raw_data/RxNorm/rrf/RXNSAT.RRF\", dtype=str, header=None, sep=\"|\")\n",
    "df4 = df4[df4[8]=='NDC']\n",
    "df4.head()"
   ]
  },
  {
   "cell_type": "code",
   "execution_count": 11,
   "metadata": {
    "ExecuteTime": {
     "end_time": "2020-10-21T04:22:44.077964Z",
     "start_time": "2020-10-21T04:22:07.196325Z"
    }
   },
   "outputs": [],
   "source": [
    "ndc2rxcui = dict()\n",
    "\n",
    "def f4(x):\n",
    "    ndc = x[10]\n",
    "    rxcui = x[0]\n",
    "    ndc2rxcui[ndc] = rxcui\n",
    "    \n",
    "xx = df4.apply(f4, axis=1)"
   ]
  },
  {
   "cell_type": "code",
   "execution_count": 12,
   "metadata": {
    "ExecuteTime": {
     "end_time": "2020-10-21T04:22:44.082750Z",
     "start_time": "2020-10-21T04:22:44.080001Z"
    }
   },
   "outputs": [
    {
     "data": {
      "text/plain": [
       "1403439"
      ]
     },
     "execution_count": 12,
     "metadata": {},
     "output_type": "execute_result"
    }
   ],
   "source": [
    "len(ndc2rxcui)"
   ]
  },
  {
   "cell_type": "code",
   "execution_count": 13,
   "metadata": {
    "ExecuteTime": {
     "end_time": "2020-10-21T04:22:44.514111Z",
     "start_time": "2020-10-21T04:22:44.084703Z"
    }
   },
   "outputs": [],
   "source": [
    "pkl_dump(ndc2rxcui, \"../resources/ndc2rxcui.pkl\")"
   ]
  }
 ],
 "metadata": {
  "kernelspec": {
   "display_name": "Python 3",
   "language": "python",
   "name": "python3"
  },
  "language_info": {
   "codemirror_mode": {
    "name": "ipython",
    "version": 3
   },
   "file_extension": ".py",
   "mimetype": "text/x-python",
   "name": "python",
   "nbconvert_exporter": "python",
   "pygments_lexer": "ipython3",
   "version": "3.7.6"
  }
 },
 "nbformat": 4,
 "nbformat_minor": 4
}
