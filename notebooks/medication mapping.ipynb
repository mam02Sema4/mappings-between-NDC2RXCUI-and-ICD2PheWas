{
 "cells": [
  {
   "cell_type": "code",
   "execution_count": null,
   "metadata": {
    "ExecuteTime": {
     "end_time": "2020-12-13T16:53:15.556519Z",
     "start_time": "2020-12-13T16:53:15.551851Z"
    }
   },
   "outputs": [],
   "source": [
    "import sys\n",
    "sys.path.append(\"./\")\n",
    "from utils import pkl_load, pkl_dump, text_load"
   ]
  },
  {
   "cell_type": "code",
   "execution_count": null,
   "metadata": {
    "ExecuteTime": {
     "end_time": "2020-12-13T16:53:16.740701Z",
     "start_time": "2020-12-13T16:53:16.075540Z"
    }
   },
   "outputs": [],
   "source": [
    "import pandas as pd\n",
    "from collections import defaultdict\n",
    "from copy import deepcopy\n",
    "from tqdm import tqdm"
   ]
  },
  {
   "cell_type": "code",
   "execution_count": null,
   "metadata": {
    "ExecuteTime": {
     "end_time": "2020-12-13T16:58:29.765199Z",
     "start_time": "2020-12-13T16:58:29.762548Z"
    }
   },
   "outputs": [],
   "source": [
    "from concurrent.futures import ProcessPoolExecutor, as_completed"
   ]
  },
  {
   "cell_type": "code",
   "execution_count": null,
   "metadata": {},
   "outputs": [],
   "source": [
    "\"\"\"\n",
    "Readme\n",
    "\n",
    "1. we will create a mapping between ndc and rxcui\n",
    "2. we will create a mapping between rxcui and its ingradient level rxcui\n",
    "3. we will create a mapping between unused rxcui and its current version\n",
    "\"\"\""
   ]
  },
  {
   "cell_type": "markdown",
   "metadata": {},
   "source": [
    "## map concepts to name"
   ]
  },
  {
   "cell_type": "code",
   "execution_count": null,
   "metadata": {
    "ExecuteTime": {
     "end_time": "2020-12-13T16:53:23.854991Z",
     "start_time": "2020-12-13T16:53:20.989749Z"
    }
   },
   "outputs": [],
   "source": [
    "df2 = pd.read_csv(\"../raw_data/RxNorm/rrf/RXNCONSO.RRF\", dtype=str, header=None, sep=\"|\")\n",
    "df2.head()"
   ]
  },
  {
   "cell_type": "code",
   "execution_count": null,
   "metadata": {
    "ExecuteTime": {
     "end_time": "2020-12-13T16:53:23.979315Z",
     "start_time": "2020-12-13T16:53:23.856785Z"
    }
   },
   "outputs": [],
   "source": [
    "valid_copts = set(df2[0])"
   ]
  },
  {
   "cell_type": "code",
   "execution_count": null,
   "metadata": {
    "ExecuteTime": {
     "end_time": "2020-10-21T01:13:16.048325Z",
     "start_time": "2020-10-21T01:12:53.217944Z"
    }
   },
   "outputs": [],
   "source": [
    "rxcui2name = defaultdict(set)\n",
    "\n",
    "def f2(x):\n",
    "    rxcui = x[0]\n",
    "    name = x[14]\n",
    "    rxcui2name[rxcui].add(name)\n",
    "\n",
    "xx = df2.apply(f2, axis=1)"
   ]
  },
  {
   "cell_type": "code",
   "execution_count": null,
   "metadata": {
    "ExecuteTime": {
     "end_time": "2020-10-21T01:13:16.510861Z",
     "start_time": "2020-10-21T01:13:16.050085Z"
    }
   },
   "outputs": [],
   "source": [
    "pkl_dump(rxcui2name, \"../resources/rxcui2name.pkl\")"
   ]
  },
  {
   "cell_type": "markdown",
   "metadata": {},
   "source": [
    "## remap outdated concepts to current concepts"
   ]
  },
  {
   "cell_type": "code",
   "execution_count": null,
   "metadata": {
    "ExecuteTime": {
     "end_time": "2020-12-13T16:53:28.528349Z",
     "start_time": "2020-12-13T16:53:28.486078Z"
    },
    "scrolled": true
   },
   "outputs": [],
   "source": [
    "# outdated concepts\n",
    "df1 = pd.read_csv(\"../raw_data/RxNorm/rrf/RXNCUI.RRF\", dtype=str, header=None, sep=\"|\")\n",
    "df1.head()"
   ]
  },
  {
   "cell_type": "code",
   "execution_count": null,
   "metadata": {
    "ExecuteTime": {
     "end_time": "2020-10-21T00:56:24.248877Z",
     "start_time": "2020-10-21T00:56:23.389139Z"
    }
   },
   "outputs": [],
   "source": [
    "temp = defaultdict(set)\n",
    "\n",
    "def f1(x):\n",
    "    old = x[0]\n",
    "    cur = x[4]\n",
    "    if old == cur and cur not in valid_copts:\n",
    "        return\n",
    "    temp[old].add(cur)\n",
    "\n",
    "xx = df1.apply(f1, axis=1)"
   ]
  },
  {
   "cell_type": "code",
   "execution_count": null,
   "metadata": {
    "ExecuteTime": {
     "end_time": "2020-10-21T00:56:36.896144Z",
     "start_time": "2020-10-21T00:56:36.013185Z"
    }
   },
   "outputs": [],
   "source": [
    "s = set(df1[0])\n",
    "ntemp = deepcopy(temp)\n",
    "\n",
    "flag = True\n",
    "while flag:\n",
    "    flag = False\n",
    "    for k, v in temp.items():\n",
    "        for each in v:\n",
    "            if each in s:\n",
    "                if each not in temp:\n",
    "                    continue\n",
    "                flag = True\n",
    "                nv = temp[each]\n",
    "                for e in nv:\n",
    "                    ntemp[k].add(e)\n",
    "                ntemp[k].remove(each)\n",
    "    temp = deepcopy(ntemp)"
   ]
  },
  {
   "cell_type": "code",
   "execution_count": null,
   "metadata": {
    "ExecuteTime": {
     "end_time": "2020-10-21T00:59:17.770247Z",
     "start_time": "2020-10-21T00:59:17.752929Z"
    }
   },
   "outputs": [],
   "source": [
    "old2cur = dict()\n",
    "\n",
    "for k, v in ntemp.items():\n",
    "    if len(v) > 0:\n",
    "        old2cur[k] = v\n",
    "\n",
    "pkl_dump(old2cur, \"../resources/rxcui_remap.pkl\")"
   ]
  },
  {
   "cell_type": "markdown",
   "metadata": {},
   "source": [
    "## rxnorm to ingradients"
   ]
  },
  {
   "cell_type": "code",
   "execution_count": null,
   "metadata": {
    "ExecuteTime": {
     "end_time": "2020-12-13T16:53:46.114284Z",
     "start_time": "2020-12-13T16:53:34.341702Z"
    }
   },
   "outputs": [],
   "source": [
    "df3 = pd.read_csv(\"../raw_data/RxNorm/rrf/RXNREL.RRF\", dtype=str, header=None, sep=\"|\")\n",
    "df3.head()"
   ]
  },
  {
   "cell_type": "code",
   "execution_count": 3,
   "metadata": {
    "ExecuteTime": {
     "end_time": "2020-12-15T14:44:27.640901Z",
     "start_time": "2020-12-15T14:44:27.637194Z"
    }
   },
   "outputs": [
    {
     "data": {
      "text/html": [
       "<img src=\"../raw_data/RxNorm_Drug_Relationships.png\"/>"
      ],
      "text/plain": [
       "<IPython.core.display.Image object>"
      ]
     },
     "execution_count": 3,
     "metadata": {},
     "output_type": "execute_result"
    }
   ],
   "source": [
    "from IPython.display import Image\n",
    "from IPython.core.display import HTML \n",
    "Image(url= \"../raw_data/RxNorm_Drug_Relationships.png\")"
   ]
  },
  {
   "cell_type": "code",
   "execution_count": null,
   "metadata": {
    "ExecuteTime": {
     "end_time": "2020-12-13T16:53:46.237985Z",
     "start_time": "2020-12-13T16:53:46.116165Z"
    }
   },
   "outputs": [],
   "source": [
    "ingredients = set(df2[(df2[12]=='IN') & (df2[11]=='RXNORM')][0])"
   ]
  },
  {
   "cell_type": "code",
   "execution_count": null,
   "metadata": {
    "ExecuteTime": {
     "end_time": "2020-10-21T03:14:30.486253Z",
     "start_time": "2020-10-21T03:11:52.303000Z"
    }
   },
   "outputs": [],
   "source": [
    "ingrad_map = dict()\n",
    "\n",
    "for ingrd in ingredients:\n",
    "    ingrad_map[ingrd] = set()\n",
    "    \n",
    "    s = list(set(df3[df3[0]==ingrd][4]))\n",
    "    exist = set(deepcopy(s))\n",
    "    \n",
    "    while len(s) > 0:\n",
    "        sub_ingrad = s.pop()\n",
    "        ingrad_map[ingrd].add(sub_ingrad)        \n",
    "#         sub_df = df3[(df3[0]==sub_ingrad) & (df3[7]=='isa') & (df3[7]=='constitutes') & (df3[7]=='tradename_of')]\n",
    "        sub_df = df3[(df3[0]==sub_ingrad) & ((df3[7]=='isa') | (df3[7]=='tradename_of') | (df3[7]=='constitutes') | (df3[7]=='has_ingredient'))]\n",
    "        for e in set(sub_df[4]):\n",
    "            if e not in ingredients and e not in exist:\n",
    "                exist.add(e)\n",
    "                s.append(e)"
   ]
  },
  {
   "cell_type": "code",
   "execution_count": null,
   "metadata": {
    "ExecuteTime": {
     "end_time": "2020-12-13T16:54:40.030893Z",
     "start_time": "2020-12-13T16:54:40.021478Z"
    }
   },
   "outputs": [],
   "source": [
    "def helper(ingrd):\n",
    "    ingrad_map = dict()\n",
    "    ingrad_map[ingrd] = set()\n",
    "    \n",
    "    s = list(set(df3[df3[0]==ingrd][4]))\n",
    "    exist = set(deepcopy(s))\n",
    "    \n",
    "    while len(s) > 0:\n",
    "        sub_ingrad = s.pop()\n",
    "        ingrad_map[ingrd].add(sub_ingrad)        \n",
    "#         sub_df = df3[(df3[0]==sub_ingrad) & (df3[7]=='isa') & (df3[7]=='constitutes') & (df3[7]=='tradename_of')]\n",
    "        sub_df = df3[(df3[0]==sub_ingrad) & ((df3[7]=='isa') | (df3[7]=='tradename_of') | (df3[7]=='constitutes') | (df3[7]=='has_ingredient'))]\n",
    "        for e in set(sub_df[4]):\n",
    "            if e not in ingredients and e not in exist:\n",
    "                exist.add(e)\n",
    "                s.append(e)\n",
    "    return ingrad_map"
   ]
  },
  {
   "cell_type": "code",
   "execution_count": null,
   "metadata": {
    "ExecuteTime": {
     "start_time": "2020-12-13T17:05:36.006Z"
    },
    "scrolled": true
   },
   "outputs": [],
   "source": [
    "# may need more than 24 hours to finish\n",
    "final_ingra_map = dict()\n",
    "\n",
    "with ProcessPoolExecutor(max_workers=4) as exe:\n",
    "#     for each in tqdm(exe.map(helper, ingredients), total=len(ingredients)):\n",
    "#         final_ingra_map.update(each)\n",
    "    for each in as_completed({exe.submit(helper, ing): ing for ing in ingredients}):\n",
    "        final_ingra_map.update(each.result())"
   ]
  },
  {
   "cell_type": "code",
   "execution_count": null,
   "metadata": {
    "ExecuteTime": {
     "start_time": "2020-12-13T17:05:41.840Z"
    }
   },
   "outputs": [],
   "source": [
    "len(final_ingra_map)"
   ]
  },
  {
   "cell_type": "code",
   "execution_count": null,
   "metadata": {
    "ExecuteTime": {
     "end_time": "2020-10-21T03:22:40.446550Z",
     "start_time": "2020-10-21T03:22:40.442468Z"
    }
   },
   "outputs": [],
   "source": [
    "rxcui2ingre = defaultdict(set)\n",
    "for k, v in final_ingra_map.items():\n",
    "    for each in v:\n",
    "        rxcui2ingre[each].add(k)\n",
    "pkl_dump(rxcui2ingre, \"../resources/rxcui2ingredient.pkl\")"
   ]
  },
  {
   "cell_type": "markdown",
   "metadata": {},
   "source": [
    "## ndc to rxcui"
   ]
  },
  {
   "cell_type": "code",
   "execution_count": null,
   "metadata": {
    "ExecuteTime": {
     "end_time": "2020-10-21T04:13:54.140372Z",
     "start_time": "2020-10-21T04:13:43.595608Z"
    }
   },
   "outputs": [],
   "source": [
    "df4 = pd.read_csv(\"../raw_data/RxNorm/rrf/RXNSAT.RRF\", dtype=str, header=None, sep=\"|\")\n",
    "df4 = df4[df4[8]=='NDC']\n",
    "df4.head()"
   ]
  },
  {
   "cell_type": "code",
   "execution_count": null,
   "metadata": {
    "ExecuteTime": {
     "end_time": "2020-10-21T04:22:44.077964Z",
     "start_time": "2020-10-21T04:22:07.196325Z"
    }
   },
   "outputs": [],
   "source": [
    "ndc2rxcui = dict()\n",
    "\n",
    "def f4(x):\n",
    "    ndc = x[10]\n",
    "    rxcui = x[0]\n",
    "    ndc2rxcui[ndc] = rxcui\n",
    "    \n",
    "xx = df4.apply(f4, axis=1)"
   ]
  },
  {
   "cell_type": "code",
   "execution_count": null,
   "metadata": {
    "ExecuteTime": {
     "end_time": "2020-10-21T04:22:44.082750Z",
     "start_time": "2020-10-21T04:22:44.080001Z"
    }
   },
   "outputs": [],
   "source": [
    "len(ndc2rxcui)"
   ]
  },
  {
   "cell_type": "code",
   "execution_count": null,
   "metadata": {
    "ExecuteTime": {
     "end_time": "2020-10-21T04:22:44.514111Z",
     "start_time": "2020-10-21T04:22:44.084703Z"
    }
   },
   "outputs": [],
   "source": [
    "pkl_dump(ndc2rxcui, \"../resources/ndc2rxcui.pkl\")"
   ]
  },
  {
   "cell_type": "code",
   "execution_count": null,
   "metadata": {},
   "outputs": [],
   "source": []
  }
 ],
 "metadata": {
  "kernelspec": {
   "display_name": "Python 3",
   "language": "python",
   "name": "python3"
  },
  "language_info": {
   "codemirror_mode": {
    "name": "ipython",
    "version": 3
   },
   "file_extension": ".py",
   "mimetype": "text/x-python",
   "name": "python",
   "nbconvert_exporter": "python",
   "pygments_lexer": "ipython3",
   "version": "3.7.6"
  }
 },
 "nbformat": 4,
 "nbformat_minor": 4
}
